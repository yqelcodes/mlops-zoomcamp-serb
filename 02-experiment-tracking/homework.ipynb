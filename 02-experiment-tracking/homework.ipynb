{
 "cells": [
  {
   "cell_type": "markdown",
   "id": "3b68700c",
   "metadata": {},
   "source": [
    "# Homework - Week 02\n",
    "\n",
    "The goal of this homework is to get familiar with MLflow, the tool for experiment tracking and model management.\n",
    "\n",
    "## Q1. Install MLflow\n"
   ]
  },
  {
   "cell_type": "code",
   "execution_count": 17,
   "id": "89bd2028",
   "metadata": {},
   "outputs": [
    {
     "name": "stdout",
     "output_type": "stream",
     "text": [
      "MLflow version:  3.2.0\n"
     ]
    }
   ],
   "source": [
    "import mlflow\n",
    "\n",
    "print(\"MLflow version: \", mlflow.__version__)"
   ]
  },
  {
   "cell_type": "markdown",
   "id": "26f08ebc",
   "metadata": {},
   "source": [
    "## Q2. Download and preprocess the data\n"
   ]
  },
  {
   "cell_type": "code",
   "execution_count": 18,
   "id": "f1906fb9",
   "metadata": {},
   "outputs": [
    {
     "name": "stdout",
     "output_type": "stream",
     "text": [
      "       4\n"
     ]
    }
   ],
   "source": [
    "!python ../cohorts/2025/02-experiment-tracking/homework/preprocess_data.py --raw_data_path taxi_data --dest_path ./output\n",
    "!ls ./output | wc -l\n"
   ]
  },
  {
   "cell_type": "markdown",
   "id": "768d5e05",
   "metadata": {},
   "source": [
    "# Q3. Train a model with autolog"
   ]
  },
  {
   "cell_type": "code",
   "execution_count": 19,
   "id": "90f33e1d",
   "metadata": {},
   "outputs": [
    {
     "name": "stdout",
     "output_type": "stream",
     "text": [
      "2025/08/10 15:50:04 INFO mlflow.store.db.utils: Creating initial MLflow database tables...\n",
      "2025/08/10 15:50:04 INFO mlflow.store.db.utils: Updating database tables\n",
      "INFO  [alembic.runtime.migration] Context impl SQLiteImpl.\n",
      "INFO  [alembic.runtime.migration] Will assume non-transactional DDL.\n",
      "INFO  [alembic.runtime.migration] Context impl SQLiteImpl.\n",
      "INFO  [alembic.runtime.migration] Will assume non-transactional DDL.\n"
     ]
    }
   ],
   "source": [
    "!python ../cohorts/2025/02-experiment-tracking/homework/train.py"
   ]
  },
  {
   "cell_type": "markdown",
   "id": "21682992",
   "metadata": {},
   "source": [
    "# Q4. Launch the tracking server locally"
   ]
  },
  {
   "cell_type": "code",
   "execution_count": 20,
   "id": "d3c41a77",
   "metadata": {},
   "outputs": [
    {
     "name": "stdout",
     "output_type": "stream",
     "text": [
      "2025/08/10 15:50:19 INFO mlflow.store.db.utils: Creating initial MLflow database tables...\n",
      "2025/08/10 15:50:19 INFO mlflow.store.db.utils: Updating database tables\n",
      "INFO  [alembic.runtime.migration] Context impl SQLiteImpl.\n",
      "INFO  [alembic.runtime.migration] Will assume non-transactional DDL.\n",
      "INFO  [alembic.runtime.migration] Context impl SQLiteImpl.\n",
      "INFO  [alembic.runtime.migration] Will assume non-transactional DDL.\n",
      "2025/08/10 15:50:19 INFO mlflow.store.db.utils: Creating initial MLflow database tables...\n",
      "2025/08/10 15:50:19 INFO mlflow.store.db.utils: Updating database tables\n",
      "INFO  [alembic.runtime.migration] Context impl SQLiteImpl.\n",
      "INFO  [alembic.runtime.migration] Will assume non-transactional DDL.\n",
      "[2025-08-10 15:50:19 +0200] [94550] [INFO] Starting gunicorn 23.0.0\n",
      "[2025-08-10 15:50:19 +0200] [94550] [INFO] Listening at: http://0.0.0.0:5001 (94550)\n",
      "[2025-08-10 15:50:19 +0200] [94550] [INFO] Using worker: sync\n",
      "[2025-08-10 15:50:19 +0200] [94551] [INFO] Booting worker with pid: 94551\n",
      "[2025-08-10 15:50:19 +0200] [94552] [INFO] Booting worker with pid: 94552\n",
      "[2025-08-10 15:50:19 +0200] [94553] [INFO] Booting worker with pid: 94553\n",
      "[2025-08-10 15:50:19 +0200] [94554] [INFO] Booting worker with pid: 94554\n",
      "^C\n",
      "\n",
      "Aborted!\n",
      "[2025-08-10 15:50:31 +0200] [94554] [INFO] Worker exiting (pid: 94554)\n",
      "[2025-08-10 15:50:31 +0200] [94553] [INFO] Worker exiting (pid: 94553)\n",
      "[2025-08-10 15:50:31 +0200] [94551] [INFO] Worker exiting (pid: 94551)\n",
      "[2025-08-10 15:50:31 +0200] [94552] [INFO] Worker exiting (pid: 94552)\n"
     ]
    }
   ],
   "source": [
    "!mlflow server --backend-store-uri sqlite:////Users/sergei_biriukov/Desktop/Trainings/mlops/mlops-zoomcamp-serb/02-experiment-tracking/mlflow.db --default-artifact-root /Users/sergei_biriukov/Desktop/Trainings/mlops/mlops-zoomcamp-serb/02-experiment-tracking/mlruns --host 0.0.0.0 --port 5001"
   ]
  },
  {
   "cell_type": "markdown",
   "id": "d648eac2",
   "metadata": {},
   "source": [
    "# Q5. Tune model hyperparameters\n"
   ]
  },
  {
   "cell_type": "code",
   "execution_count": null,
   "id": "38d3c288",
   "metadata": {},
   "outputs": [],
   "source": [
    "!python ../cohorts/2025/02-experiment-tracking/homework/hpo.py"
   ]
  },
  {
   "cell_type": "markdown",
   "id": "1a986094",
   "metadata": {},
   "source": [
    "## Q6. Promote the best model to the model registry\n"
   ]
  },
  {
   "cell_type": "code",
   "execution_count": null,
   "id": "f5b4d68e",
   "metadata": {},
   "outputs": [],
   "source": [
    "!python ../cohorts/2025/02-experiment-tracking/homework/register_model.py"
   ]
  }
 ],
 "metadata": {
  "kernelspec": {
   "display_name": ".venv (3.13.3)",
   "language": "python",
   "name": "python3"
  },
  "language_info": {
   "codemirror_mode": {
    "name": "ipython",
    "version": 3
   },
   "file_extension": ".py",
   "mimetype": "text/x-python",
   "name": "python",
   "nbconvert_exporter": "python",
   "pygments_lexer": "ipython3",
   "version": "3.13.3"
  }
 },
 "nbformat": 4,
 "nbformat_minor": 5
}
